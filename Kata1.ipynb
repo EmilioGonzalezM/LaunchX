{
 "cells": [
  {
   "cell_type": "markdown",
   "metadata": {},
   "source": [
    "# Fecha"
   ]
  },
  {
   "cell_type": "code",
   "execution_count": 1,
   "metadata": {},
   "outputs": [
    {
     "name": "stdout",
     "output_type": "stream",
     "text": [
      "el dia de hoy es :2022-02-09\n"
     ]
    }
   ],
   "source": [
    "from datetime import date \n",
    "print(\"el dia de hoy es :\"+ str(date.today()))"
   ]
  },
  {
   "cell_type": "markdown",
   "metadata": {},
   "source": [
    "# Conversor de unidades"
   ]
  },
  {
   "cell_type": "code",
   "execution_count": 2,
   "metadata": {},
   "outputs": [
    {
     "name": "stdout",
     "output_type": "stream",
     "text": [
      "Calculadora parsec-años luz\n",
      "35.86 Años luz.\n"
     ]
    }
   ],
   "source": [
    "print(\"Calculadora parsec-años luz\")\n",
    "parsec = input(\"Numero de parsec\")\n",
    "añoluz = 3.26\n",
    "print(str(float(parsec) * float(añoluz)) + (\" Años luz.\"))"
   ]
  }
 ],
 "metadata": {
  "interpreter": {
   "hash": "21bb03b1eec8fe3c397084fd560e8e0e40e2dd96ebc4a852c598805d6ad63635"
  },
  "kernelspec": {
   "display_name": "Python 3.10.2 64-bit",
   "language": "python",
   "name": "python3"
  },
  "language_info": {
   "codemirror_mode": {
    "name": "ipython",
    "version": 3
   },
   "file_extension": ".py",
   "mimetype": "text/x-python",
   "name": "python",
   "nbconvert_exporter": "python",
   "pygments_lexer": "ipython3",
   "version": "3.10.2"
  },
  "orig_nbformat": 4
 },
 "nbformat": 4,
 "nbformat_minor": 2
}
