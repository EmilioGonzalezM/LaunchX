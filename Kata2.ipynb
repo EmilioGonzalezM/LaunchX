{
 "cells": [
  {
   "cell_type": "markdown",
   "metadata": {},
   "source": [
    "## Kata 2"
   ]
  },
  {
   "cell_type": "code",
   "execution_count": null,
   "metadata": {},
   "outputs": [],
   "source": [
    "#kata 2\n",
    "#instalar python desde terminal a microsoft store\n",
    "C:\\Users\\emili>python -m venv env\n",
    "\n",
    "C:\\Users\\emili>python3 -m venv env\n",
    "\n",
    "C:\\Users\\emili>env\\bin\\activate\n",
    "El sistema no puede encontrar la ruta especificada.\n",
    "#Este comando no lo ejecuta\n",
    "\n",
    "C:\\Users\\emili>env\\Scripts\\activate\n",
    "#Este comando si lo ejecuta, observamos que sale el (env) quiere decir que el entorno virtual esta activado.\n",
    "\n",
    "(env) C:\\Users\\emili>pip freeze\n",
    "\n",
    "(env) C:\\Users\\emili>pip install python-dateutil\n",
    "Collecting python-dateutil\n",
    "  Using cached python_dateutil-2.8.2-py2.py3-none-any.whl (247 kB)\n",
    "Collecting six>=1.5\n",
    "  Using cached six-1.16.0-py2.py3-none-any.whl (11 kB)\n",
    "Installing collected packages: six, python-dateutil\n",
    "Successfully installed python-dateutil-2.8.2 six-1.16.0\n",
    "WARNING: You are using pip version 21.2.4; however, version 22.0.3 is available.\n",
    "You should consider upgrading via the 'C:\\Users\\emili\\env\\Scripts\\python.exe -m pip install --upgrade pip' command.\n",
    "\n",
    "(env) C:\\Users\\emili>pip freeze\n",
    "python-dateutil==2.8.2\n",
    "six==1.16.0\n",
    "\n",
    "(env) C:\\Users\\emili>deactivate\n",
    "C:\\Users\\emili>pip freeze\n",
    "\n",
    "C:\\Users\\emili>\n",
    "#ya probamos el entorno virtual"
   ]
  }
 ],
 "metadata": {
  "interpreter": {
   "hash": "21bb03b1eec8fe3c397084fd560e8e0e40e2dd96ebc4a852c598805d6ad63635"
  },
  "kernelspec": {
   "display_name": "Python 3.10.2 64-bit",
   "language": "python",
   "name": "python3"
  },
  "language_info": {
   "codemirror_mode": {
    "name": "ipython",
    "version": 3
   },
   "file_extension": ".py",
   "mimetype": "text/x-python",
   "name": "python",
   "nbconvert_exporter": "python",
   "pygments_lexer": "ipython3",
   "version": "3.10.2"
  },
  "orig_nbformat": 4
 },
 "nbformat": 4,
 "nbformat_minor": 2
}
